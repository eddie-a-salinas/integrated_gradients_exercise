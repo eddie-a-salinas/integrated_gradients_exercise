{
 "cells": [
  {
   "cell_type": "markdown",
   "metadata": {},
   "source": [
    "##  Integrated Gradients Exercise\n",
    "\n",
    "An exercise employing integrated gradients (IG) is performed.  IG is a methodology used to help understand and explain how some ML models arrive at their conclusions.  Discusssed and formally presented  [here](https://arxiv.org/abs/1703.01365) I consider the their use as a way to take the model and place it as the subject of scrutiny rather than data.  The model, presented various input data in a systematic fashion, itself becomes the target of a mini-investigation.\n",
    "\n",
    "Using MNIST data, a 4 similar to a 9, IG are used to show what part of the image is most impactful in reclassifying the 4 as a 9.  [MNIST](http://yann.lecun.com/exdb/mnist/) is a popular dataset of images of numbers for their classification.  Different people and classifiers might confuse different numbers with eachother.  I think many would agree that pairs of numbers easily mistaken might be 1/7, 3/8, and 4/9.  1/7 for the small \"tick\" at the top ; 3/8 and 8 for the \"loops\" being partial or complete, and 4/9 for how curvy (or straight) or *connected* the top might be or how curvy or straight the bottom might be.  Some 4 have a \"closed\" polygon at the top while others have an open one.  4 and 9 are used in this exercise because the source of confusion might be most easily attributable to the top part depending on the curve or connection.  \n",
    "\n",
    "A \"confusion matrix\" [here](https://scikit-learn.org/stable/auto_examples/classification/plot_digits_classification.html) shows an example of how some numbers are mis-classified\n",
    "\n",
    "The model porition of this notebook is based on [this example](https://keras.io/examples/vision/mnist_convnet/).  "
   ]
  },
  {
   "cell_type": "markdown",
   "metadata": {},
   "source": [
    "#### Load Modules"
   ]
  },
  {
   "cell_type": "code",
   "execution_count": 1,
   "metadata": {},
   "outputs": [],
   "source": [
    "from tensorflow.python import pywrap_tensorflow as _pywrap_tensorflow\n",
    "from tensorflow.python.eager import context\n",
    "import numpy as np\n",
    "from tensorflow import keras\n",
    "from tensorflow.keras import layers\n",
    "import tensorflow as tf\n",
    "import os\n",
    "import json\n",
    "from datetime import datetime\n"
   ]
  },
  {
   "cell_type": "markdown",
   "metadata": {},
   "source": [
    "#### Load Data, Train a Model"
   ]
  },
  {
   "cell_type": "code",
   "execution_count": 2,
   "metadata": {},
   "outputs": [
    {
     "name": "stdout",
     "output_type": "stream",
     "text": [
      "x_train shape: (60000, 28, 28, 1)\n",
      "60000 train samples\n",
      "10000 test samples\n"
     ]
    }
   ],
   "source": [
    "#prep the data\n",
    "# Model / data parameters\n",
    "num_classes = 10\n",
    "input_shape = (28, 28, 1)\n",
    "\n",
    "# the data, split between train and test sets\n",
    "(x_train, y_train), (x_test, y_test) = keras.datasets.mnist.load_data()\n",
    "\n",
    "# Scale images to the [0, 1] range\n",
    "x_train = x_train.astype(\"float32\") / 255\n",
    "x_test = x_test.astype(\"float32\") / 255\n",
    "# Make sure images have shape (28, 28, 1)\n",
    "x_train = np.expand_dims(x_train, -1)\n",
    "x_test = np.expand_dims(x_test, -1)\n",
    "print(\"x_train shape:\", x_train.shape)\n",
    "print(x_train.shape[0], \"train samples\")\n",
    "print(x_test.shape[0], \"test samples\")\n",
    "\n",
    "\n",
    "# convert class vectors to binary class matrices\n",
    "y_train = keras.utils.to_categorical(y_train, num_classes)\n",
    "y_test = keras.utils.to_categorical(y_test, num_classes)"
   ]
  },
  {
   "cell_type": "code",
   "execution_count": 3,
   "metadata": {},
   "outputs": [
    {
     "name": "stdout",
     "output_type": "stream",
     "text": [
      "Loaded existing model from MNIST_GD_model_file.h5\n",
      "Model: \"sequential\"\n",
      "_________________________________________________________________\n",
      "Layer (type)                 Output Shape              Param #   \n",
      "=================================================================\n",
      "conv2d (Conv2D)              (None, 26, 26, 32)        320       \n",
      "_________________________________________________________________\n",
      "max_pooling2d (MaxPooling2D) (None, 13, 13, 32)        0         \n",
      "_________________________________________________________________\n",
      "conv2d_1 (Conv2D)            (None, 11, 11, 64)        18496     \n",
      "_________________________________________________________________\n",
      "max_pooling2d_1 (MaxPooling2 (None, 5, 5, 64)          0         \n",
      "_________________________________________________________________\n",
      "flatten (Flatten)            (None, 1600)              0         \n",
      "_________________________________________________________________\n",
      "dropout (Dropout)            (None, 1600)              0         \n",
      "_________________________________________________________________\n",
      "dense (Dense)                (None, 10)                16010     \n",
      "=================================================================\n",
      "Total params: 34,826\n",
      "Trainable params: 34,826\n",
      "Non-trainable params: 0\n",
      "_________________________________________________________________\n"
     ]
    }
   ],
   "source": [
    "#Based on the model here : https://keras.io/examples/vision/mnist_convnet/\n",
    "model_save_file=\"MNIST_GD_model_file.h5\"\n",
    "loadedModelFromFile=False\n",
    "def create_model_arch():\n",
    "    model = keras.Sequential(\n",
    "        [\n",
    "            keras.Input(shape=input_shape),\n",
    "            layers.Conv2D(32, kernel_size=(3, 3), activation=\"relu\"),\n",
    "            layers.MaxPooling2D(pool_size=(2, 2)),\n",
    "            layers.Conv2D(64, kernel_size=(3, 3), activation=\"relu\"),\n",
    "            layers.MaxPooling2D(pool_size=(2, 2)),\n",
    "            layers.Flatten(),\n",
    "            layers.Dropout(0.5),\n",
    "            layers.Dense(num_classes, activation=\"softmax\"),\n",
    "        ]\n",
    "    )\n",
    "    return model\n",
    "if(os.path.exists(model_save_file)):\n",
    "    model=keras.models.load_model(model_save_file)\n",
    "    loadedModelFromFile=True\n",
    "    print(f\"Loaded existing model from {model_save_file}\")\n",
    "else:\n",
    "    model=create_model_arch()\n",
    "    print(f\"Did not find model file, so creating a model!\")\n",
    "model.summary()"
   ]
  },
  {
   "cell_type": "code",
   "execution_count": 4,
   "metadata": {},
   "outputs": [
    {
     "name": "stdout",
     "output_type": "stream",
     "text": [
      "Since model loaded from file, SKIPPING retraining!\n"
     ]
    }
   ],
   "source": [
    "if(not(loadedModelFromFile)):\n",
    "    print(f\"Since model not loaded from file, {model_save_file} , to begin training!\")\n",
    "    batch_size = 128\n",
    "    epochs = 60\n",
    "    model.compile(loss=\"categorical_crossentropy\", optimizer=\"adam\", metrics=[\"accuracy\"])\n",
    "    model.fit(x_train, y_train, batch_size=batch_size, epochs=epochs, validation_split=0.1,verbose=False)\n",
    "    model.save_weights(model_save_file)\n",
    "    model.save(model_save_file)\n",
    "    print(f\"Model saved to file {model_save_file}\")\n",
    "else:\n",
    "    print(f\"Since model loaded from file, SKIPPING retraining!\")"
   ]
  },
  {
   "cell_type": "markdown",
   "metadata": {},
   "source": [
    "####  A Brief Report on the Model's Performance"
   ]
  },
  {
   "cell_type": "code",
   "execution_count": 5,
   "metadata": {},
   "outputs": [
    {
     "name": "stdout",
     "output_type": "stream",
     "text": [
      "Test loss: 0.026806853711605072\n",
      "Test accuracy: 0.9932000041007996\n"
     ]
    }
   ],
   "source": [
    "score = model.evaluate(x_test, y_test, verbose=0)\n",
    "print(\"Test loss:\", score[0])\n",
    "print(\"Test accuracy:\", score[1])"
   ]
  },
  {
   "cell_type": "markdown",
   "metadata": {},
   "source": [
    "### Chose a 4 and 9 to Compare and Analyze With\n",
    "\n",
    "The training data are analyzed to find examples of 4s and examples of 9s.  Once those data are gathered (4s and 9s), each instance of 4 is compared with each instance of 9.  For each pair, a similarity score is computed as the sum of the absolute values of differences among the pixels.  There are 28x28=784 pixels so each similarity score requires at least that many computations.\n",
    "\n",
    "After the comparisons are carried out the most similar 4 and similar 9 are found and they are the 4 and 9 that will be used for subsequent analysis with integrated gradients.  Because the similarity scores might take some time to compute the values I found (indexes 2662 and 5059 into the training data) are saved into the code below.  Small modification can be done by remove them as well as a \"break\" statement from the search loop ; that modification would trigger the FxN comparisons instead of using the \"cached\" index values (F=number of fours=5842; N=number of nines=5949)"
   ]
  },
  {
   "cell_type": "code",
   "execution_count": 6,
   "metadata": {},
   "outputs": [
    {
     "name": "stdout",
     "output_type": "stream",
     "text": [
      "Num 4-indices is 5842\n",
      "Num 9-indices is 5949\n",
      "On 4-index 0 of 5842...\n",
      "   four_index  nine_index   abs_diff\n",
      "0        2662        5059  21.780394\n",
      "4-index to use is 2662\n",
      "9-index to use is 5059\n"
     ]
    }
   ],
   "source": [
    "four_indices=[i for i in range(len(y_train)) if tf.keras.backend.argmax(y_train[i])==4]\n",
    "nine_indices=[i for i in range(len(y_train)) if tf.keras.backend.argmax(y_train[i])==9]\n",
    "print(f\"Num 4-indices is {len(four_indices)}\")\n",
    "print(f\"Num 9-indices is {len(nine_indices)}\")\n",
    "pd_data_dict={'four_index':[],'nine_index':[],'abs_diff':[]}\n",
    "import pandas as pd\n",
    "for fii  in range(len(four_indices)):\n",
    "    if(fii%250==0):\n",
    "        print(f\"On 4-index {fii} of {len(four_indices)}...\")\n",
    "    for nii in range(len(nine_indices)):\n",
    "        fi=four_indices[fii]\n",
    "        ni=nine_indices[nii]\n",
    "        diff=x_train[fi]-x_train[ni]\n",
    "        abs_diff=abs(diff)\n",
    "        sum_abs_diff=sum(sum(abs_diff))\n",
    "        pd_data_dict['four_index'].append(fii)\n",
    "        pd_data_dict['nine_index'].append(nii)\n",
    "        pd_data_dict['abs_diff'].append(float(sum_abs_diff))\n",
    "    #this code is added so as to break out of the loop\n",
    "    # indices were computed and are \"cached\" in some lines below and\n",
    "    # are loaded there.  They can be recomputed by small modification\n",
    "    # of eliminating this break check.\n",
    "    if fii==0:\n",
    "        break\n",
    "#here, load the \"cached\" data\n",
    "pd_data_dict={'four_index':[2662],'nine_index':[5059],'abs_diff':[21.780394]}\n",
    "sim_data_df=pd.DataFrame.from_dict(pd_data_dict)\n",
    "sim_data_df.sort_values('abs_diff',inplace=True, kind='quicksort')\n",
    "print(sim_data_df.head())\n",
    "four_index_to_use=sim_data_df['four_index'].tolist()[0]\n",
    "print(f\"4-index to use is {four_index_to_use}\")\n",
    "first_four_index=four_indices[four_index_to_use]\n",
    "nine_index_to_use=sim_data_df['nine_index'].tolist()[0]                              \n",
    "print(f\"9-index to use is {nine_index_to_use}\")                              \n",
    "first_nine_index=nine_indices[nine_index_to_use]"
   ]
  },
  {
   "cell_type": "markdown",
   "metadata": {},
   "source": [
    "#### Data Verification and Inspection\n",
    "\n",
    "With the data selected, verify that the 4 is classified as a four and that the 9 is classified as a 9.\n",
    "\n",
    "Next each of the data are visualized.  By visual inspection their similarity can be further assessesed.  The difference between the 4 and the 9 is that the 4 is either \n",
    "*  being drawn as on an 8-segment display , but whose lines are a bit curved, or\n",
    "*  as an ASCII 4 (here!) but whose triangle isn't quite closed at the top.\n",
    "\n",
    "In either case the main difference between the 4 and the 9 is at the top where either the four has curves (first case) or its triangle doesn't quite close (second case above).\n"
   ]
  },
  {
   "cell_type": "code",
   "execution_count": 7,
   "metadata": {},
   "outputs": [
    {
     "name": "stdout",
     "output_type": "stream",
     "text": [
      "For the four, its prediction is pred=[1.3490973e-15 1.3150611e-11 4.2186588e-11 2.1784472e-13 9.9852967e-01\n",
      " 5.4825312e-13 5.5986379e-16 4.8584674e-09 3.3631868e-09 1.4702890e-03]=4\n",
      "  which is the same as 4 from the training classification\n",
      "For the nine, its prediction is pred=[1.39640285e-14 3.79004727e-12 2.75150236e-10 3.52829552e-08\n",
      " 2.01680978e-05 1.21221375e-11 1.47250251e-15 5.70655800e-07\n",
      " 5.47441778e-06 9.99973774e-01]=9\n",
      "  which is the same as 9 from the training classification\n",
      "{\n",
      "    \"four\": [\n",
      "        1.3490973271791835e-15,\n",
      "        1.3150610808643215e-11,\n",
      "        4.2186587556614086e-11,\n",
      "        2.1784471741694705e-13,\n",
      "        0.9985296726226807,\n",
      "        5.482531204199781e-13,\n",
      "        5.598637906631485e-16,\n",
      "        4.858467406165801e-09,\n",
      "        3.3631868401329257e-09,\n",
      "        0.001470288960263133\n",
      "    ],\n",
      "    \"nine\": [\n",
      "        1.3964028467339153e-14,\n",
      "        3.790047269081054e-12,\n",
      "        2.751502359288338e-10,\n",
      "        3.528295522414737e-08,\n",
      "        2.0168097762507387e-05,\n",
      "        1.2122137495185203e-11,\n",
      "        1.4725025101767282e-15,\n",
      "        5.706557999474171e-07,\n",
      "        5.474417775985785e-06,\n",
      "        0.9999737739562988\n",
      "    ]\n",
      "}\n"
     ]
    }
   ],
   "source": [
    "names=[\"four\",\"nine\"]\n",
    "indices=[first_four_index,first_nine_index]\n",
    "prediction_rec_dict=dict()\n",
    "for ii in range(len(indices)):\n",
    "    i=indices[ii]\n",
    "    #print(\"i is \"+str(i))\n",
    "    a_data=x_train[i].reshape(1, 28, 28, 1)\n",
    "    val=y_train[i]\n",
    "    prediction=model.predict(a_data)[0]\n",
    "    prediction_int=tf.keras.backend.argmax(prediction)\n",
    "    real_answer=val\n",
    "    real_answer_int=tf.keras.backend.argmax(real_answer)\n",
    "    print(f\"For the {names[ii]}, its prediction is pred={prediction}={prediction_int}\\n  which is the same as {real_answer_int} from the training classification\")\n",
    "    prediction_rec_dict[names[ii]]=prediction.tolist()\n",
    "    if(real_answer_int!=prediction_int):\n",
    "        raise Exception(\"Discrepancy!\")\n",
    "print(json.dumps(prediction_rec_dict,indent=4))"
   ]
  },
  {
   "cell_type": "code",
   "execution_count": 8,
   "metadata": {},
   "outputs": [
    {
     "data": {
      "image/png": "[encoded data removed]",
      "text/plain": [
       "<Figure size 432x288 with 1 Axes>"
      ]
     },
     "metadata": {
      "needs_background": "light"
     },
     "output_type": "display_data"
    },
    {
     "data": {
      "image/png": "[encoded data removed]",
      "text/plain": [
       "<Figure size 432x288 with 1 Axes>"
      ]
     },
     "metadata": {
      "needs_background": "light"
     },
     "output_type": "display_data"
    }
   ],
   "source": [
    "import matplotlib.pyplot as plt\n",
    "def plotImg(img_data,cmap='gray',t=None):\n",
    "    fig = plt.figure\n",
    "    plt.imshow(img_data, cmap=cmap)\n",
    "    if(t is not None):\n",
    "        plt.title(t)\n",
    "    plt.show()    \n",
    "four_image = x_train[first_four_index]\n",
    "plotImg(four_image,t=\"Four\")\n",
    "nine_image = x_train[first_nine_index]\n",
    "plotImg(nine_image,t=\"Nine\")\n"
   ]
  },
  {
   "cell_type": "markdown",
   "metadata": {},
   "source": [
    "## Gradients\n",
    "\n",
    "Applying equation 3 from the [paper](https://arxiv.org/abs/1703.01365) (see below), integrated gradients are computed\n",
    "$\n",
    "IG_{i} = (x_{i}-b_{i}) \\cdot  \\Sigma_{\\alpha=0}^{\\alpha=1} \\frac{\\partial F_{i}(b+\\alpha (x-b))}{ \\partial x_{i}}.\n",
    "$\n",
    "In this case, a \"neutral\" baseline is not used.  \"Neutral\" baseline could be an input that when fed to the model results in a uniform output classification where each number is declared equally likely $ P(X=0)=P(X=1)=...=P(X=9)=\\frac{1}{10}$.  **In contrast the baseline used here is 4 and 9 as the primary data under consideration.  This way, IG might help reveal what about the 9-image makes it classified as a 9 and not a 4.**\n",
    "\n",
    "Note that in the calculation, the derivative (gradient) is taken with respect to the 9th output as the Y variable because that is the target.\n",
    "\n",
    "Furthermore, in the approximation here, the $\\alpha$ variable transits from 0 to 1 with step 0.001 to help precision."
   ]
  },
  {
   "cell_type": "code",
   "execution_count": 9,
   "metadata": {
    "scrolled": false
   },
   "outputs": [],
   "source": [
    "baseline=four_image\n",
    "data_for_ig=nine_image\n",
    "gradient_list=list()\n",
    "for alpha in [float(alpha)*0.001 for alpha in range(1,1000,1)]:\n",
    "    alpha_image=baseline+(data_for_ig-baseline)*alpha\n",
    "    alpha_img_for_pred=tf.convert_to_tensor(alpha_image.reshape(1, 28, 28, 1))\n",
    "    with tf.GradientTape() as g:\n",
    "        g.watch(alpha_img_for_pred)\n",
    "        alpha_prediction=model(alpha_img_for_pred)\n",
    "        dpred_dimg_at_alpha=g.gradient(alpha_prediction[0][9],alpha_img_for_pred)\n",
    "        #dimg_dpred_at_alpha_as_np=dimg_dpred_at_alpha.numpy()\n",
    "        gradient_list.append(dpred_dimg_at_alpha*0.001*(data_for_ig-baseline))"
   ]
  },
  {
   "cell_type": "markdown",
   "metadata": {},
   "source": [
    "### Check the Work\n",
    "From the paper, \"we recommend that developers check that the attributions approximately adds up to the difference beween the score at the input and that at the baseline, and if not increase the step-size m.\"\n",
    "\n",
    "The change in probability is computed and it matches the IG sum !"
   ]
  },
  {
   "cell_type": "code",
   "execution_count": 10,
   "metadata": {},
   "outputs": [
    {
     "name": "stdout",
     "output_type": "stream",
     "text": [
      "The change in probability is 0.9985034849960357\n",
      "The attribution sum is 0.9986327886581421\n",
      "The difference is 0.00012930366210639477\n",
      "The two values are quite close!\n"
     ]
    }
   ],
   "source": [
    "prob_jump=prediction_rec_dict['nine'][9]-prediction_rec_dict['four'][9]\n",
    "print(\"The change in probability is \"+str(prob_jump))\n",
    "attrib_sum=0\n",
    "for g_i in range(len(gradient_list)):\n",
    "    attrib_sum+=tf.math.reduce_sum(gradient_list[g_i])\n",
    "attrib_sum=float(attrib_sum.numpy())\n",
    "print(\"The attribution sum is \"+str(attrib_sum))\n",
    "attrib_sum_and_prob_jump_diff=abs(prob_jump-attrib_sum)\n",
    "print(\"The difference is \"+str(attrib_sum_and_prob_jump_diff))\n",
    "if attrib_sum_and_prob_jump_diff<=0.01:\n",
    "    print(\"The two values are quite close!\")\n",
    "else:\n",
    "    print(\"The two values are not close, is better precision needed?  Are the IG correctly computed?\")"
   ]
  },
  {
   "cell_type": "markdown",
   "metadata": {},
   "source": [
    "#### Gradient Post-Processing\n",
    "\n",
    "So as to help reveal what *promotes* classification of the data to be a nine and ignore what *detracts* the data from being classified as a 9, the gradients are subjected to some post-processing.  Here the first post-processing of IG is that any negative values are capped at zero.  This helps to ignore \"detractor\" features.   Positive values are left unchanged."
   ]
  },
  {
   "cell_type": "code",
   "execution_count": 11,
   "metadata": {},
   "outputs": [],
   "source": [
    "#throw away negs\n",
    "gradien_list_pos=[g for g in gradient_list]\n",
    "for g_i in range(len(gradient_list)):\n",
    "    ag=gradient_list[g_i].numpy().reshape(28*28)\n",
    "    drop_neg=lambda x : 0 if x<=0 else x\n",
    "    ag=[drop_neg(x) for x in ag]\n",
    "    gradien_list_pos[g_i]=tf.convert_to_tensor(np.array(ag).reshape(1, 28, 28, 1))"
   ]
  },
  {
   "cell_type": "markdown",
   "metadata": {},
   "source": [
    "### A Bit More Post-Processing and Integration Completion\n",
    "\n",
    "With detractors discarded a next step is to turn the IG into something usable.  To do so, each of the gradients at each of the $\\alpha$ values are summed; this summing completes the integral calculation.  Next, the value of each gradient is set to itself as a fraction of the maximal gradient.  This normalizes everything in the range from 0.0 to 1.0"
   ]
  },
  {
   "cell_type": "code",
   "execution_count": 12,
   "metadata": {},
   "outputs": [
    {
     "name": "stdout",
     "output_type": "stream",
     "text": [
      "Location of the highest post-processed IG is (6, 15, 0)\n"
     ]
    }
   ],
   "source": [
    "gl_sum=gradien_list_pos[0]\n",
    "for i in range(1,len(gradien_list_pos)):\n",
    "    gl_sum=gl_sum+gradien_list_pos[i]\n",
    "gl_sum=gl_sum.numpy().reshape(28,28,1)\n",
    "gl_sum_copy=np.copy(gl_sum)\n",
    "gl_sum_norm=np.copy(gl_sum)\n",
    "gl_sum_copy=gl_sum_copy.reshape(28*28)\n",
    "max_gl=max(gl_sum_copy)\n",
    "sorted_gl_vals=sorted(gl_sum_copy.tolist())\n",
    "def normTheSum(x):\n",
    "    return float(x)/float(max_gl)\n",
    "normTheSumVec=np.vectorize(normTheSum)\n",
    "gl_sum_norm=normTheSumVec(gl_sum_norm)\n",
    "gl_sum_norm_argmax=np.unravel_index(np.argmax(gl_sum_norm, axis=None), gl_sum_norm.shape)\n",
    "print(f\"Location of the highest post-processed IG is {gl_sum_norm_argmax}\")"
   ]
  },
  {
   "cell_type": "markdown",
   "metadata": {},
   "source": [
    "## Application & Visualization!\n",
    "\n",
    "The baseline image is visualized (for convenience).  Next, the post-processed gradients gradients are visualized.  \n",
    "By visual inspection, the post-processed gradient sum has a peak/mode at around (6,15).  This location is exactly where the loop/triangle/polygon of the 4 is open/uncompleted.  This value is shown/computed in the previous cell as well.\n",
    "\n",
    "Finally, the post-processed gradients are merged into the baseline value via addition.  As this is done, some minor image processis is carried out where pixel values are capped at 1.0 so that all pixel values are between 0 and 1.0"
   ]
  },
  {
   "cell_type": "code",
   "execution_count": 13,
   "metadata": {},
   "outputs": [
    {
     "data": {
      "image/png": "[encoded data removed]",
      "text/plain": [
       "<Figure size 432x288 with 1 Axes>"
      ]
     },
     "metadata": {
      "needs_background": "light"
     },
     "output_type": "display_data"
    },
    {
     "data": {
      "image/png": "[encoded data removed]",
      "text/plain": [
       "<Figure size 432x288 with 1 Axes>"
      ]
     },
     "metadata": {
      "needs_background": "light"
     },
     "output_type": "display_data"
    },
    {
     "data": {
      "image/png": "[encoded data removed]",
      "text/plain": [
       "<Figure size 432x288 with 1 Axes>"
      ]
     },
     "metadata": {
      "needs_background": "light"
     },
     "output_type": "display_data"
    }
   ],
   "source": [
    "def capAt(x,cap=1):\n",
    "    if(x>cap):\n",
    "        return cap\n",
    "    else:\n",
    "        return x\n",
    "vecCap=np.vectorize(capAt)\n",
    "plotImg(baseline,t=\"Baseline(Four)\")\n",
    "plotImg(gl_sum_norm,t=\"Post-Processed Integrated Gradients\")\n",
    "gl_sum_wbl=vecCap(gl_sum_norm+baseline)\n",
    "plotImg(gl_sum_wbl,t=\"Baseline With Merged & Processed Gradient Data\")"
   ]
  },
  {
   "cell_type": "markdown",
   "metadata": {},
   "source": [
    "### Taking the 4 merged with the IG-pixels the data is now classified as a 9"
   ]
  },
  {
   "cell_type": "code",
   "execution_count": 14,
   "metadata": {},
   "outputs": [
    {
     "data": {
      "text/plain": [
       "[4.535420636601027e-14,\n",
       " 2.4610847214334708e-12,\n",
       " 5.366002087114907e-10,\n",
       " 2.1015009177283162e-10,\n",
       " 0.006022866815328598,\n",
       " 7.966237045020641e-12,\n",
       " 1.0129502903580647e-15,\n",
       " 8.528211310476763e-07,\n",
       " 4.04130162223737e-07,\n",
       " 0.9939759373664856]"
      ]
     },
     "execution_count": 14,
     "metadata": {},
     "output_type": "execute_result"
    }
   ],
   "source": [
    "model.predict(gl_sum_wbl.reshape(1, 28, 28, 1))[0].tolist()"
   ]
  },
  {
   "cell_type": "markdown",
   "metadata": {},
   "source": [
    "According to the output from the classifier, the prediction for 9 is 99.39%."
   ]
  },
  {
   "cell_type": "markdown",
   "metadata": {},
   "source": [
    "## Brief Discussion\n",
    "\n",
    "I consider it pleasing and intuitive that the processed gradients have a peak/mode at precisely the point where when merged into the baseline four allow it to be considered as a 9.  That point closes the top box (or triangle) of the four when then permits its classification as a 9.\n",
    "\n",
    "This observation gives me some confidence that the model is working as expected and in an intuitive way.  Furthermore, it gives me some confidence that the IG methodology has been correctly implemented."
   ]
  },
  {
   "cell_type": "code",
   "execution_count": null,
   "metadata": {},
   "outputs": [],
   "source": []
  }
 ],
 "metadata": {
  "colab": {
   "collapsed_sections": [],
   "name": "tensorflow/datasets",
   "private_outputs": true,
   "provenance": [],
   "toc_visible": true
  },
  "kernelspec": {
   "display_name": "Python 3",
   "language": "python",
   "name": "python3"
  },
  "language_info": {
   "codemirror_mode": {
    "name": "ipython",
    "version": 3
   },
   "file_extension": ".py",
   "mimetype": "text/x-python",
   "name": "python",
   "nbconvert_exporter": "python",
   "pygments_lexer": "ipython3",
   "version": "3.6.9"
  }
 },
 "nbformat": 4,
 "nbformat_minor": 1
}
